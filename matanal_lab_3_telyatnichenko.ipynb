{
 "cells": [
  {
   "cell_type": "code",
   "execution_count": 1,
   "id": "8b4eadd6-bf36-4431-9d19-04c8e6e9a287",
   "metadata": {},
   "outputs": [],
   "source": [
    "#Exercize1"
   ]
  },
  {
   "cell_type": "code",
   "execution_count": 8,
   "id": "bdb2b5d7-291e-473f-a418-753031df0729",
   "metadata": {},
   "outputs": [
    {
     "data": {
      "text/plain": [
       "(10+0j)"
      ]
     },
     "execution_count": 8,
     "metadata": {},
     "output_type": "execute_result"
    }
   ],
   "source": [
    "complex(3,1)*complex(3,-1)"
   ]
  },
  {
   "cell_type": "code",
   "execution_count": 9,
   "id": "742d6fca-4568-4198-804c-9ffbcfac55b2",
   "metadata": {},
   "outputs": [
    {
     "data": {
      "text/plain": [
       "-4j"
      ]
     },
     "execution_count": 9,
     "metadata": {},
     "output_type": "execute_result"
    }
   ],
   "source": [
    "complex(1,-1)**3-complex(1,1)**3"
   ]
  },
  {
   "cell_type": "code",
   "execution_count": 17,
   "id": "8f80de70-a459-480f-8fb4-a806673b55ca",
   "metadata": {},
   "outputs": [
    {
     "name": "stdout",
     "output_type": "stream",
     "text": [
      "[ 0.+1.j -1.+0.j -0.-1.j  1.+0.j  0.+1.j -1.+0.j -0.-1.j  1.+0.j]\n"
     ]
    }
   ],
   "source": [
    "import numpy as np\n",
    "a = np.arange(1,9,1)\n",
    "print(pow(complex(0,1),a))"
   ]
  },
  {
   "cell_type": "code",
   "execution_count": 22,
   "id": "3f952f08-486a-45e5-9b93-49e22eefa5b5",
   "metadata": {},
   "outputs": [
    {
     "data": {
      "text/plain": [
       "(-0.35294117647058826-0.5882352941176471j)"
      ]
     },
     "execution_count": 22,
     "metadata": {},
     "output_type": "execute_result"
    }
   ],
   "source": [
    "complex(2,-3)/complex(1,4)+1/complex(4,-1)"
   ]
  },
  {
   "cell_type": "code",
   "execution_count": 23,
   "id": "c8f94ed1-8546-46ec-9b22-be17c570c566",
   "metadata": {},
   "outputs": [],
   "source": [
    "#exercize2"
   ]
  },
  {
   "cell_type": "code",
   "execution_count": 28,
   "id": "99c4794e-78d5-4250-8949-5977a7763396",
   "metadata": {},
   "outputs": [
    {
     "name": "stdout",
     "output_type": "stream",
     "text": [
      "(-3.464101615137755-6j)\n",
      "(0.3333333333333333-3.204937810639273e-17j)\n"
     ]
    }
   ],
   "source": [
    "import numpy as np\n",
    "z1 = complex(1,-np.sqrt(3))\n",
    "z2 = complex(np.sqrt(3),3)\n",
    "print(z1*np.conj(z2))\n",
    "print((np.conj(z1)/z2)**2)"
   ]
  },
  {
   "cell_type": "code",
   "execution_count": 29,
   "id": "9d41c1a1-3af7-4c67-bbe2-cf6e0a211cde",
   "metadata": {},
   "outputs": [],
   "source": [
    "#exercize3"
   ]
  },
  {
   "cell_type": "code",
   "execution_count": 32,
   "id": "a7196e17-9146-463c-8bdb-a074fe124ae0",
   "metadata": {},
   "outputs": [
    {
     "name": "stdout",
     "output_type": "stream",
     "text": [
      "50.0\n",
      "-1.0\n",
      "50.00999900019995\n",
      "-0.01999733397315053\n",
      "(50+1j)\n"
     ]
    }
   ],
   "source": [
    "import numpy as np\n",
    "a = complex(4,-5)*(5-6*complex(0,1)**3)\n",
    "print(np.real(a))\n",
    "print(np.imag(a))\n",
    "print(np.abs(a))\n",
    "print(np.angle(a))\n",
    "print(np.conj(a))"
   ]
  },
  {
   "cell_type": "code",
   "execution_count": 43,
   "id": "9bb7dfc3-42b2-4d63-9a56-dd05c97dd96e",
   "metadata": {},
   "outputs": [
    {
     "name": "stdout",
     "output_type": "stream",
     "text": [
      "128.0\n",
      "-128.0\n",
      "181.01933598375618\n",
      "-0.7853981633974483\n",
      "(128+128j)\n"
     ]
    }
   ],
   "source": [
    "b = complex(1,1)**15\n",
    "print(np.real(b))\n",
    "print(np.imag(b))\n",
    "print(np.abs(b))\n",
    "print(np.angle(b))\n",
    "print(np.conj(b))"
   ]
  },
  {
   "cell_type": "code",
   "execution_count": 1,
   "id": "9a9db284-bf5b-4c80-9f99-ed131f167457",
   "metadata": {},
   "outputs": [],
   "source": [
    "#exercize4"
   ]
  },
  {
   "cell_type": "code",
   "execution_count": 76,
   "id": "2c9af926-f314-4405-96cd-1f6216a6aa9a",
   "metadata": {},
   "outputs": [
    {
     "data": {
      "image/png": "[encoded data removed]",
      "text/plain": [
       "<Figure size 432x288 with 1 Axes>"
      ]
     },
     "metadata": {
      "needs_background": "light"
     },
     "output_type": "display_data"
    }
   ],
   "source": [
    "import matplotlib.pyplot as plt\n",
    "import numpy as np\n",
    "z1=complex(1,3)\n",
    "z2=complex(3,4)\n",
    "z3=z1+z2\n",
    "z4=z1-z2\n",
    "a = np.array([z1,z2,z3,z4])\n",
    "plt.plot()\n",
    "b = np.zeros(4)\n",
    "plt.quiver(b,b,np.real(z1),np.imag(z1), angles='xy', scale_units='xy',scale=100, color=\"blue\")\n",
    "plt.quiver(b,b,np.real(z2),np.imag(z2), angles='xy', scale_units='xy',scale=100, color='green')\n",
    "plt.quiver(b,b,np.real(z3),np.imag(z3), angles='xy', scale_units='xy',scale=100, color='y')\n",
    "plt.quiver(b,b,np.real(z4),np.imag(z4), angles='xy', scale_units='xy',scale=100, color='red')\n",
    "plt.axis([-0.03,0.075,-0.03,0.075])\n",
    "plt.grid(True)\n",
    "plt.axvline(x=0,color='black')\n",
    "plt.axhline(y=0,color='black')\n",
    "plt.xlabel('ось X')\n",
    "plt.ylabel('ось Y')\n",
    "plt.title('комплексные числа')\n",
    "plt.show()"
   ]
  },
  {
   "cell_type": "code",
   "execution_count": 77,
   "id": "1b5f8f53-f9fc-4fd3-89d6-3340278aee4b",
   "metadata": {},
   "outputs": [],
   "source": [
    "#exercize5"
   ]
  },
  {
   "cell_type": "code",
   "execution_count": 2,
   "id": "3c989755-a92c-4f03-9de0-6b8bb32491aa",
   "metadata": {},
   "outputs": [
    {
     "data": {
      "image/png": "[encoded data removed]",
      "text/plain": [
       "<Figure size 432x288 with 1 Axes>"
      ]
     },
     "metadata": {
      "needs_background": "light"
     },
     "output_type": "display_data"
    }
   ],
   "source": [
    "import matplotlib.pyplot as plt\n",
    "import numpy as np\n",
    "a = pow(complex(2*np.sqrt(3),-2),1/4)\n",
    "b = np.abs(a)\n",
    "c = np.angle(a)\n",
    "d = np.arange(1,6)\n",
    "x = b**(1/4)*(np.cos((c+2.0*np.pi*d)/4) +1j*np.sin((c+2.0*np.pi*d)/4))\n",
    "plt.plot(np.real(x),np.imag(x),'-.d')\n",
    "plt.axis('equal')\n",
    "t = np.linspace(0,2*np.pi,100)\n",
    "plt.plot(b**(1/4)*np.cos(t),b**(1/4)*np.sin(t),':')\n",
    "plt.grid(True)\n",
    "plt.axvline(x=0, color=\"black\")\n",
    "plt.axhline(y=0, color='black')\n",
    "plt.xlabel('x')\n",
    "plt.ylabel('y')\n",
    "plt.title('решения')\n",
    "plt.show()"
   ]
  },
  {
   "cell_type": "code",
   "execution_count": 164,
   "id": "05bf3b70-10e3-451a-b22b-b03161b0b614",
   "metadata": {},
   "outputs": [],
   "source": [
    "#exercize6 and C5"
   ]
  },
  {
   "cell_type": "code",
   "execution_count": 25,
   "id": "68dd1837-7508-461a-95da-c282490e464e",
   "metadata": {},
   "outputs": [
    {
     "data": {
      "image/png": "[encoded data removed]",
      "text/plain": [
       "<Figure size 432x288 with 1 Axes>"
      ]
     },
     "metadata": {
      "needs_background": "light"
     },
     "output_type": "display_data"
    }
   ],
   "source": [
    "import matplotlib.pyplot as plt\n",
    "import numpy as np\n",
    "x = np.linspace(0,1,10)\n",
    "y1 = x*np.tan(np.pi/4)\n",
    "x1 = np.linspace(-1,0,10)\n",
    "y2 = x1*np.tan(5*np.pi/6)\n",
    "y3 =x1*np.tan(-3*np.pi/4)\n",
    "y4 =x*np.tan(-np.pi/3)\n",
    "plt.plot(x,y1,'r')\n",
    "plt.plot(x1,y2,'g')\n",
    "plt.plot(x1,y3,'y')\n",
    "plt.plot(x,y4,'k')\n",
    "plt.grid(True)\n",
    "plt.axhline(y=0, color='k')\n",
    "plt.axvline(x=0, color='k')\n",
    "plt.axis('equal')\n",
    "plt.show()"
   ]
  },
  {
   "cell_type": "code",
   "execution_count": 174,
   "id": "882fe307-c327-4be4-80c7-b38660375d32",
   "metadata": {},
   "outputs": [],
   "source": [
    "#exercizeC1"
   ]
  },
  {
   "cell_type": "code",
   "execution_count": 177,
   "id": "3c2345ce-5180-454e-b72b-00711f9e3a68",
   "metadata": {},
   "outputs": [
    {
     "data": {
      "text/plain": [
       "(1+7j)"
      ]
     },
     "execution_count": 177,
     "metadata": {},
     "output_type": "execute_result"
    }
   ],
   "source": [
    "complex(1,2)**2*complex(1,-1)"
   ]
  },
  {
   "cell_type": "code",
   "execution_count": 179,
   "id": "22a8462b-180a-4de9-8e58-c4f3af213fda",
   "metadata": {},
   "outputs": [
    {
     "data": {
      "text/plain": [
       "(16+0j)"
      ]
     },
     "execution_count": 179,
     "metadata": {},
     "output_type": "execute_result"
    }
   ],
   "source": [
    "complex(1,-1)**4*complex(1,1)**4"
   ]
  },
  {
   "cell_type": "code",
   "execution_count": 183,
   "id": "c72ebd84-4187-4989-b3fc-f1c19f998629",
   "metadata": {},
   "outputs": [
    {
     "name": "stdout",
     "output_type": "stream",
     "text": [
      "[ 1.+0.j  0.+1.j -1.+0.j -0.-1.j  1.+0.j  0.+1.j -1.+0.j -0.-1.j  1.+0.j\n",
      "  0.+1.j -1.+0.j -0.-1.j  1.+0.j  0.+1.j -1.+0.j -0.-1.j  1.+0.j  0.+1.j\n",
      " -1.+0.j -0.-1.j  1.+0.j  0.+1.j]\n"
     ]
    }
   ],
   "source": [
    "k = np.arange(20,42)\n",
    "print(pow(complex(0,1),k))"
   ]
  },
  {
   "cell_type": "code",
   "execution_count": 184,
   "id": "e5936887-1b1c-47e1-9616-93aba856953a",
   "metadata": {},
   "outputs": [
    {
     "data": {
      "text/plain": [
       "(-0.7999999999999998+1.5999999999999999j)"
      ]
     },
     "execution_count": 184,
     "metadata": {},
     "output_type": "execute_result"
    }
   ],
   "source": [
    "complex(2,5)/complex(1,-3)+1/complex(1,-1)"
   ]
  },
  {
   "cell_type": "code",
   "execution_count": 185,
   "id": "c1acd782-3b91-4ec6-841a-94c00e2a1d6e",
   "metadata": {},
   "outputs": [],
   "source": [
    "#exercizeC2"
   ]
  },
  {
   "cell_type": "code",
   "execution_count": 189,
   "id": "5516a2ec-dcf5-40c2-af6d-9d44d7e36073",
   "metadata": {},
   "outputs": [
    {
     "name": "stdout",
     "output_type": "stream",
     "text": [
      "-3.9999999999999996j\n",
      "(0.5000000000000001-0.8660254037844387j)\n"
     ]
    }
   ],
   "source": [
    "z1=complex(np.sqrt(3),-1)\n",
    "z2=complex(1,np.sqrt(3))\n",
    "print(z1*np.conj(z2))\n",
    "print((np.conj(z1)/z2)**2)"
   ]
  },
  {
   "cell_type": "code",
   "execution_count": 190,
   "id": "edac2d85-0f8f-47d7-94b5-962c69b1aa9c",
   "metadata": {},
   "outputs": [],
   "source": [
    "#exercizeC3"
   ]
  },
  {
   "cell_type": "code",
   "execution_count": 199,
   "id": "9e2a80a1-ea6f-410b-baf6-d555c9fa78a3",
   "metadata": {},
   "outputs": [
    {
     "name": "stdout",
     "output_type": "stream",
     "text": [
      "47.0\n",
      "-28.0\n",
      "54.70831746635972\n",
      "-0.5372847143007717\n",
      "(47+28j)\n"
     ]
    }
   ],
   "source": [
    "a=complex(5,4)*complex(3,-2**3)\n",
    "print(np.real(a))\n",
    "print(np.imag(a))\n",
    "print(np.abs(a))\n",
    "print(np.angle(a))\n",
    "print(np.conj(a))"
   ]
  },
  {
   "cell_type": "code",
   "execution_count": 201,
   "id": "534dad44-cb21-496c-875b-9472562460cb",
   "metadata": {},
   "outputs": [
    {
     "name": "stdout",
     "output_type": "stream",
     "text": [
      "-64.0\n",
      "64.0\n",
      "90.50966799187809\n",
      "2.356194490192345\n",
      "(-64-64j)\n"
     ]
    }
   ],
   "source": [
    "b=complex(1,-1)**13\n",
    "print(np.real(b))\n",
    "print(np.imag(b))\n",
    "print(np.abs(b))\n",
    "print(np.angle(b))\n",
    "print(np.conj(b))"
   ]
  },
  {
   "cell_type": "code",
   "execution_count": 203,
   "id": "23fbd415-ae5e-414d-b699-82f0666e117c",
   "metadata": {},
   "outputs": [],
   "source": [
    "#exercizeC4"
   ]
  },
  {
   "cell_type": "code",
   "execution_count": 215,
   "id": "bf8f3523-090d-4810-9525-b38a787339dc",
   "metadata": {},
   "outputs": [
    {
     "data": {
      "image/png": "[encoded data removed]",
      "text/plain": [
       "<Figure size 432x288 with 1 Axes>"
      ]
     },
     "metadata": {
      "needs_background": "light"
     },
     "output_type": "display_data"
    }
   ],
   "source": [
    "import matplotlib.pyplot as plt\n",
    "import numpy as np\n",
    "a = pow(complex(-1,-np.sqrt(3)),1/6)\n",
    "b = np.abs(a)\n",
    "c = np.angle(a)\n",
    "d = np.arange(1,8)\n",
    "e = np.imag(a)\n",
    "x = b**(1/6)*(np.cos((c+2.0*np.pi*d)/6) +1j*np.sin((c+2.0*np.pi*d)/6))\n",
    "plt.plot(np.real(x),np.imag(x),'-.d')\n",
    "plt.axis('equal')\n",
    "t = np.linspace(0,2*np.pi,100)\n",
    "plt.plot(b**(1/6)*np.cos(t),b**(1/6)*np.sin(t),':')\n",
    "plt.grid(True)\n",
    "plt.axvline(x=0, color=\"black\")\n",
    "plt.axhline(y=0, color='black')\n",
    "plt.xlabel('x')\n",
    "plt.ylabel('y')\n",
    "plt.title('решения')\n",
    "plt.show()"
   ]
  },
  {
   "cell_type": "code",
   "execution_count": null,
   "id": "22d0fa54-1d58-4e19-86e2-e95b10bd06cc",
   "metadata": {},
   "outputs": [],
   "source": []
  },
  {
   "cell_type": "code",
   "execution_count": null,
   "id": "97ce524c-3851-4bcc-a81c-7b970e857771",
   "metadata": {},
   "outputs": [],
   "source": []
  }
 ],
 "metadata": {
  "kernelspec": {
   "display_name": "Python 3 (ipykernel)",
   "language": "python",
   "name": "python3"
  },
  "language_info": {
   "codemirror_mode": {
    "name": "ipython",
    "version": 3
   },
   "file_extension": ".py",
   "mimetype": "text/x-python",
   "name": "python",
   "nbconvert_exporter": "python",
   "pygments_lexer": "ipython3",
   "version": "3.9.12"
  }
 },
 "nbformat": 4,
 "nbformat_minor": 5
}
